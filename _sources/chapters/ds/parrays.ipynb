{
 "cells": [
  {
   "cell_type": "markdown",
   "id": "479ddc78",
   "metadata": {},
   "source": [
    "# Persistent Arrays\n",
    "\n",
    "This section will be released midway through the semester."
   ]
  }
 ],
 "metadata": {
  "jupytext": {
   "cell_metadata_filter": "-all",
   "formats": "md:myst",
   "text_representation": {
    "extension": ".md",
    "format_name": "myst",
    "format_version": 0.13,
    "jupytext_version": "1.10.3"
   }
  },
  "kernelspec": {
   "display_name": "OCaml",
   "language": "OCaml",
   "name": "ocaml-jupyter"
  },
  "source_map": [
   14
  ]
 },
 "nbformat": 4,
 "nbformat_minor": 5
}